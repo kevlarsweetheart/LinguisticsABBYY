{
 "cells": [
  {
   "cell_type": "markdown",
   "metadata": {},
   "source": [
    "# Фонетический синтез"
   ]
  },
  {
   "cell_type": "code",
   "execution_count": 141,
   "metadata": {
    "collapsed": false
   },
   "outputs": [],
   "source": [
    "#Множества аллофонов по признакам\n",
    "consonants = set('pfbvtsdzkxgy')\n",
    "vowels = set('a')\n",
    "voiced = set('bvdzgy')\n",
    "deaf = set('pftskx')\n",
    "occlusive = set('pbtdkg')\n",
    "slotted = set('fvszxy')\n",
    "lips = set('bpfv')\n",
    "front = set('dtsz')\n",
    "realLingual = set('kgxy')"
   ]
  },
  {
   "cell_type": "code",
   "execution_count": 142,
   "metadata": {
    "collapsed": false
   },
   "outputs": [
    {
     "name": "stdout",
     "output_type": "stream",
     "text": [
      "Specify a string to convert\n",
      "abtak\n"
     ]
    }
   ],
   "source": [
    "#Задание \"глубинной\" цепочки\n",
    "print('Specify a string to convert')\n",
    "lexical = input()"
   ]
  },
  {
   "cell_type": "code",
   "execution_count": 143,
   "metadata": {
    "collapsed": true
   },
   "outputs": [],
   "source": [
    "#Признаки для каждого символа цепочки\n",
    "def GetWordDescription(_input):\n",
    "    wordDescription = []\n",
    "    for i, symbol in enumerate(_input):\n",
    "        if symbol in vowels:\n",
    "            wordDescription.append({'consonant': False})\n",
    "        else:\n",
    "            symbolFeatures = {'consonant': True, 'voiced': symbol in voiced, 'place': 'Lips', 'occlusive': symbol in occlusive}\n",
    "            if symbol in front:\n",
    "                symbolFeatures['place'] = 'Front'\n",
    "            elif symbol in realLingual:\n",
    "                symbolFeatures['place'] = 'Real lingual'\n",
    "            wordDescription.append(symbolFeatures)\n",
    "    return wordDescription[:]"
   ]
  },
  {
   "cell_type": "code",
   "execution_count": 144,
   "metadata": {
    "collapsed": false
   },
   "outputs": [],
   "source": [
    "#Признаки для каждого символа \"глубинной\" цепочки\n",
    "wordDescription = GetWordDescription(lexical)\n",
    "\n",
    "if wordDescription[len(lexical) - 1]['consonant']:\n",
    "    wordDescription[len(lexical) - 1]['voiced'] = False\n",
    "    if len(lexical) != 1 and not wordDescription[len(lexical) - 2]['consonant']:\n",
    "        wordDescription[len(lexical) - 1]['occlusive'] = False"
   ]
  },
  {
   "cell_type": "code",
   "execution_count": 145,
   "metadata": {
    "collapsed": false
   },
   "outputs": [],
   "source": [
    "#Изменение значений признаков отдельных символов \"глубинной\" цепочки по правилам преобразования\n",
    "for i in range(len(lexical) - 2, 0, -1):\n",
    "    if wordDescription[i]['consonant']:\n",
    "        if wordDescription[i + 1]['consonant']:\n",
    "            wordDescription[i]['voiced'] = wordDescription[i + 1]['voiced']\n",
    "        elif not wordDescription[i - 1]['consonant']:\n",
    "            wordDescription[i]['occlusive'] = False\n",
    "            \n",
    "if len(lexical) > 1 and wordDescription[0]['consonant'] and wordDescription[1]['consonant']:\n",
    "    wordDescription[0]['voiced'] = wordDescription[1]['voiced']"
   ]
  },
  {
   "cell_type": "code",
   "execution_count": 146,
   "metadata": {
    "collapsed": true
   },
   "outputs": [],
   "source": [
    "#Получение символа по признкам\n",
    "def GetSymbol(features):\n",
    "    if features['consonant']:\n",
    "        isVoiced = voiced\n",
    "        isOcclusive = occlusive\n",
    "        place = lips\n",
    "        if not features['voiced']:\n",
    "            isVoiced = deaf\n",
    "        if not features['occlusive']:\n",
    "            isOcclusive = slotted\n",
    "        if features['place'] == 'Front':\n",
    "            place = front\n",
    "        elif features['place'] == 'Real lingual':\n",
    "            place = realLingual\n",
    "        return set.intersection(consonants, isVoiced, isOcclusive, place).pop()\n",
    "    else:\n",
    "        return 'a'"
   ]
  },
  {
   "cell_type": "code",
   "execution_count": 147,
   "metadata": {
    "collapsed": false
   },
   "outputs": [],
   "source": [
    "#Формирование \"поверхностной\" цепочки по признакам отдельных символов\n",
    "surface = [GetSymbol(features) for features in wordDescription]"
   ]
  },
  {
   "cell_type": "code",
   "execution_count": 148,
   "metadata": {
    "collapsed": false
   },
   "outputs": [
    {
     "name": "stdout",
     "output_type": "stream",
     "text": [
      "aptax\n"
     ]
    }
   ],
   "source": [
    "#Вывод результата преобразования\n",
    "print(''.join(map(str, surface)))"
   ]
  },
  {
   "cell_type": "markdown",
   "metadata": {},
   "source": [
    "# Фонетический анализ"
   ]
  },
  {
   "cell_type": "code",
   "execution_count": 149,
   "metadata": {
    "collapsed": false
   },
   "outputs": [
    {
     "name": "stdout",
     "output_type": "stream",
     "text": [
      "Specify a string to convert\n",
      "aptax\n"
     ]
    }
   ],
   "source": [
    "#Задание \"поверхностной\" цепочки\n",
    "print('Specify a string to convert')\n",
    "givenSurface = input()"
   ]
  },
  {
   "cell_type": "code",
   "execution_count": 150,
   "metadata": {
    "collapsed": true
   },
   "outputs": [],
   "source": [
    "#Признаки для каждого символа \"поверхностной\" цепочки\n",
    "chainDescription = GetWordDescription(givenSurface)\n",
    "counterUcertain = 0\n",
    "for i in range(len(givenSurface)):\n",
    "    if chainDescription[i]['consonant']:\n",
    "        chainDescription[i]['occlusive'] = True\n",
    "        if i == len(givenSurface) - 1 or chainDescription[i + 1]['consonant']:\n",
    "            counterUcertain += 1"
   ]
  },
  {
   "cell_type": "code",
   "execution_count": 151,
   "metadata": {
    "collapsed": false
   },
   "outputs": [],
   "source": [
    "#Генерация возможных вариантов \"глубинной\" цепочки\n",
    "counterVariants = counterUcertain ** 2\n",
    "resultLexicals = []\n",
    "\n",
    "for i in range(counterVariants):\n",
    "    currentVariant = format(i, '0' + str(counterUcertain) + 'b')\n",
    "    lexical = []\n",
    "    indUncertain = 0\n",
    "    for j, features in enumerate(chainDescription):\n",
    "        if not features['consonant']:\n",
    "            lexical.append('a')\n",
    "        elif j == len(givenSurface) - 1 or chainDescription[j + 1]['consonant']:\n",
    "            features['voiced'] = bool(int(currentVariant[indUncertain]))\n",
    "            indUncertain += 1\n",
    "            lexical.append(GetSymbol(features))\n",
    "        else:\n",
    "            lexical.append(GetSymbol(features))\n",
    "    resultLexicals.append(''.join(map(str, lexical[:])))"
   ]
  },
  {
   "cell_type": "code",
   "execution_count": 152,
   "metadata": {
    "collapsed": false
   },
   "outputs": [
    {
     "name": "stdout",
     "output_type": "stream",
     "text": [
      "aptak\n",
      "aptag\n",
      "abtak\n",
      "abtag\n"
     ]
    }
   ],
   "source": [
    "print('\\n'.join(map(str, resultLexicals)))"
   ]
  }
 ],
 "metadata": {
  "kernelspec": {
   "display_name": "Python 3",
   "language": "python",
   "name": "python3"
  },
  "language_info": {
   "codemirror_mode": {
    "name": "ipython",
    "version": 3
   },
   "file_extension": ".py",
   "mimetype": "text/x-python",
   "name": "python",
   "nbconvert_exporter": "python",
   "pygments_lexer": "ipython3",
   "version": "3.6.0"
  }
 },
 "nbformat": 4,
 "nbformat_minor": 2
}
